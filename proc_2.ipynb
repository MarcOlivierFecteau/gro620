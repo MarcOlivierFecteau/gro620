{
 "cells": [
  {
   "cell_type": "markdown",
   "metadata": {
    "id": "YCkTC06fdXa1"
   },
   "source": [
    "# GRO620 - Activité procédurale 2\n",
    "\n",
    "Dans cette activité procédurale, nous allons poser les bases dufiltrage numérique d'images. Vous reconnaîtrez des éléments du filtrage numérique que vous avez vu en S4.\n",
    "\n",
    "Pour chaque question impliqant de la programmation, commencez par discuter de la procédure à suivre pour résoudre le problème. Nous validerons l'approche en classe avant de se lancer dans l'implémentation."
   ]
  },
  {
   "cell_type": "code",
   "execution_count": null,
   "metadata": {
    "colab": {
     "base_uri": "https://localhost:8080/"
    },
    "executionInfo": {
     "elapsed": 183,
     "status": "ok",
     "timestamp": 1622381700727,
     "user": {
      "displayName": "François Ferland",
      "photoUrl": "https://lh3.googleusercontent.com/a-/AOh14GgF2Or95FbA-4pBmWOKA7jS0MHVh9HZkxsXcGWI=s64",
      "userId": "06573522356862301710"
     },
     "user_tz": 240
    },
    "id": "qG2kPxIedXa2",
    "outputId": "a8fc660c-fe69-484e-f135-8d6d76881251"
   },
   "outputs": [],
   "source": [
    "# Préambule\n",
    "\n",
    "import numpy as np\n",
    "import cv2 as cv\n",
    "import matplotlib.pyplot as plt\n",
    "\n",
    "%matplotlib inline\n",
    "\n",
    "## Si vous utilisez Google Colab, vous devez d'abord monter votre Google Drive\n",
    "## où se trouve vos données.\n",
    "## Commentez les trois lignes suivantes en ajustant le chemin vers votre propre\n",
    "## dossier :\n",
    "\n",
    "# from google.colab import drive\n",
    "# drive.mount('/content/gdrive')\n",
    "# %cd /content/gdrive/MyDrive/gro620-e21\n",
    "\n",
    "## Pour retrouver le chemin depuis Jupyter, vous pouvez utiliser ceci :\n",
    "# !ls /content/gdrive/MyDrive\n"
   ]
  },
  {
   "cell_type": "markdown",
   "metadata": {
    "id": "VI_Lrc3_dXa5"
   },
   "source": [
    "## Encodage de l'image\n",
    "\n",
    "Pour les questions suivantes, vous aurez probablement besoin de lire la documentation de cv2.imread et matplotlib.pyplot.imshow :\n",
    "\n",
    "[imread](https://pythonexamples.org/python-opencv-read-image-cv2-imread/)\n",
    "\n",
    "[imshow](https://matplotlib.org/3.2.1/api/_as_gen/matplotlib.pyplot.imshow.html)\n",
    "\n",
    "Le code suivant charge une image et l'affiche en ligne :"
   ]
  },
  {
   "cell_type": "code",
   "execution_count": null,
   "metadata": {
    "colab": {
     "base_uri": "https://localhost:8080/",
     "height": 286
    },
    "executionInfo": {
     "elapsed": 533,
     "status": "ok",
     "timestamp": 1622382035908,
     "user": {
      "displayName": "François Ferland",
      "photoUrl": "https://lh3.googleusercontent.com/a-/AOh14GgF2Or95FbA-4pBmWOKA7jS0MHVh9HZkxsXcGWI=s64",
      "userId": "06573522356862301710"
     },
     "user_tz": 240
    },
    "id": "QKcjbZbedXa5",
    "outputId": "362875c8-96b7-44b1-850b-be71ecb18926"
   },
   "outputs": [],
   "source": [
    "img_color = cv.imread(\"images_doc/proc1-q3-color.jpeg\")\n",
    "assert img_color is not None\n",
    "\n",
    "plt.imshow(img_color)\n",
    "plt.title(\"Original\"), plt.xticks([]), plt.yticks([])\n",
    "plt.show()"
   ]
  },
  {
   "cell_type": "markdown",
   "metadata": {
    "id": "Y8S2GxOydXa6"
   },
   "source": [
    "(source de l'image: [PixaBay, Pexels](https://www.pexels.com/photo/apartment-architecture-block-blue-534124/))\n",
    "\n",
    "### Q1.1\n",
    "\n",
    "**a)** Ouvrez directement l'image dans un autre logiciel (le fichier se trouve dans images_doc/proc1-q3-color.jpeg) et comparez le résultat. Que remarquez vous ?"
   ]
  },
  {
   "cell_type": "markdown",
   "metadata": {
    "id": "OgXatJLqdXa7"
   },
   "source": [
    "Les couleurs sont différentes.\n",
    "\n",
    "Explication: l'image est stockée en mémoire sous format BGR, mais `matplotlib.pyplot` interprète l'image sous format RGB, donc les canaux \"rouge\" et \"bleu\" sont inversés."
   ]
  },
  {
   "cell_type": "markdown",
   "metadata": {
    "id": "7p1o1bIXdXa7"
   },
   "source": [
    "**b)** Affichez seulement le premier canal de couleurs de l'image. Pensez à analyser la composition de la matrice image que OpenCV vous retourne. Expliquez ensuite ce que vous voyez."
   ]
  },
  {
   "cell_type": "code",
   "execution_count": null,
   "metadata": {
    "colab": {
     "base_uri": "https://localhost:8080/",
     "height": 538
    },
    "executionInfo": {
     "elapsed": 874,
     "status": "ok",
     "timestamp": 1622381702458,
     "user": {
      "displayName": "François Ferland",
      "photoUrl": "https://lh3.googleusercontent.com/a-/AOh14GgF2Or95FbA-4pBmWOKA7jS0MHVh9HZkxsXcGWI=s64",
      "userId": "06573522356862301710"
     },
     "user_tz": 240
    },
    "id": "fdr5lkmxdXa7",
    "outputId": "4f3ca685-8274-4152-931b-513edb228fa3"
   },
   "outputs": [],
   "source": [
    "plt.subplot(1, 2, 1), plt.imshow(img_color)\n",
    "plt.title(\"Original\"), plt.xticks([]), plt.yticks([])\n",
    "plt.subplot(1, 2, 2), plt.imshow(img_color[:, :, 0], \"gray\")\n",
    "plt.title(\"First channel\"), plt.xticks([]), plt.yticks([])\n",
    "\n",
    "plt.show()"
   ]
  },
  {
   "cell_type": "markdown",
   "metadata": {
    "id": "BQ6S1DQLdXa8"
   },
   "source": [
    "**c)** Transformez maintenant l'image pour que les couleurs correspondent à ce que vous voyez en dehors de Jupyter."
   ]
  },
  {
   "cell_type": "code",
   "execution_count": null,
   "metadata": {
    "executionInfo": {
     "elapsed": 9,
     "status": "ok",
     "timestamp": 1622381702459,
     "user": {
      "displayName": "François Ferland",
      "photoUrl": "https://lh3.googleusercontent.com/a-/AOh14GgF2Or95FbA-4pBmWOKA7jS0MHVh9HZkxsXcGWI=s64",
      "userId": "06573522356862301710"
     },
     "user_tz": 240
    },
    "id": "LHy4CazOdXa8"
   },
   "outputs": [],
   "source": [
    "rgb = img_color.copy()  # Permet de forcer une copie de l'image.\n",
    "# rgb = img_color aurait modifié l'originale.\n",
    "\n",
    "rgb[:, :, 0], rgb[:, :, 2] = img_color[:, :, 2], img_color[:, :, 0]\n",
    "\n",
    "plt.imshow(rgb)\n",
    "plt.title(\"RGB\"), plt.xticks([]), plt.yticks([])\n",
    "\n",
    "plt.show()"
   ]
  },
  {
   "cell_type": "markdown",
   "metadata": {
    "id": "TT77gNXxdXa9"
   },
   "source": [
    "### Q1.2\n",
    "\n",
    "Soit cette couleur dans l'espace Y'CbCr (on suppose chaque valeur comme étant encodée sur 8 bits) :\n",
    "\n",
    "$c = [100, 150, 150]$\n",
    "\n",
    "Trouvez sa valeur équivalente dans l'espace RGB."
   ]
  },
  {
   "cell_type": "code",
   "execution_count": null,
   "metadata": {
    "executionInfo": {
     "elapsed": 8,
     "status": "ok",
     "timestamp": 1622381702460,
     "user": {
      "displayName": "François Ferland",
      "photoUrl": "https://lh3.googleusercontent.com/a-/AOh14GgF2Or95FbA-4pBmWOKA7jS0MHVh9HZkxsXcGWI=s64",
      "userId": "06573522356862301710"
     },
     "user_tz": 240
    },
    "id": "hE7zxqqCdXa9"
   },
   "outputs": [],
   "source": [
    "c = np.array([100, 150, 150], dtype=np.uint8)\n",
    "\n",
    "\n",
    "def YCrCb2RGB(color: tuple[int, int, int]):\n",
    "    \"\"\"\n",
    "    Converts Y'CbCr to RGB (ITU-R BT.601 standard).\n",
    "\n",
    "    Args:\n",
    "        color: Y'CrCb formatted color (8-bits).\n",
    "    \"\"\"\n",
    "    rgb2ycbcr = np.array(\n",
    "        [\n",
    "            [0.299, 0.587, 0.114],\n",
    "            [-0.168736, -0.331264, 0.5],\n",
    "            [0.5, -0.418688, -0.081312],\n",
    "        ],\n",
    "        dtype=np.float32,\n",
    "    )\n",
    "    ycbcr2rgb = np.linalg.inv(rgb2ycbcr)\n",
    "    Y, Cb, Cr = float(color[0]), float(color[1]), float(color[2])\n",
    "    Cb -= 128\n",
    "    Cr -= 128\n",
    "\n",
    "    [R, G, B] = ycbcr2rgb @ [Y, Cb, Cr]\n",
    "\n",
    "    rgb = np.array([R, G, B], dtype=np.uint8)\n",
    "    return rgb\n",
    "\n",
    "\n",
    "c_rgb = YCrCb2RGB(c)\n",
    "\n",
    "print(f\"RGB color: {c_rgb}\")\n"
   ]
  },
  {
   "cell_type": "markdown",
   "metadata": {
    "id": "R3xaTSpYdXa-"
   },
   "source": [
    "## Filtrage point à point\n",
    "\n",
    "### Q2.1\n",
    "\n",
    "Soit cette image (chargée par OpenCV et affichée par matplotlib): "
   ]
  },
  {
   "cell_type": "code",
   "execution_count": null,
   "metadata": {
    "colab": {
     "base_uri": "https://localhost:8080/",
     "height": 286
    },
    "executionInfo": {
     "elapsed": 454,
     "status": "ok",
     "timestamp": 1622381702907,
     "user": {
      "displayName": "François Ferland",
      "photoUrl": "https://lh3.googleusercontent.com/a-/AOh14GgF2Or95FbA-4pBmWOKA7jS0MHVh9HZkxsXcGWI=s64",
      "userId": "06573522356862301710"
     },
     "user_tz": 240
    },
    "id": "8UMeBW5kdXa_",
    "outputId": "e1c2357c-7f03-459b-c97d-5d5773e9ab8d",
    "scrolled": true
   },
   "outputs": [],
   "source": [
    "img_q31_org = cv.imread(\"images_doc/proc2-q1-dock.jpeg\")\n",
    "assert img_q31_org is not None\n",
    "img_q31_rgb = cv.cvtColor(img_q31_org, cv.COLOR_BGR2RGB)\n",
    "\n",
    "plt.subplot(1, 2, 1), plt.imshow(img_q31_org)\n",
    "plt.title(\"Original\"), plt.xticks([]), plt.yticks([])\n",
    "plt.subplot(1, 2, 2), plt.imshow(img_q31_rgb)\n",
    "plt.title(\"RGB\"), plt.xticks([]), plt.yticks([])\n",
    "\n",
    "plt.show()"
   ]
  },
  {
   "cell_type": "markdown",
   "metadata": {
    "id": "dGJXZD57dXa_"
   },
   "source": [
    "(Source de l'image originale : [Vlada Karpovich, Pexels](https://www.pexels.com/photo/snow-wood-landscape-mountains-4450090/))\n",
    "\n",
    "Cette fonction affiche l'histogramme des trois composantes de l'image :"
   ]
  },
  {
   "cell_type": "code",
   "execution_count": null,
   "metadata": {
    "colab": {
     "base_uri": "https://localhost:8080/",
     "height": 265
    },
    "executionInfo": {
     "elapsed": 156,
     "status": "ok",
     "timestamp": 1622381703057,
     "user": {
      "displayName": "François Ferland",
      "photoUrl": "https://lh3.googleusercontent.com/a-/AOh14GgF2Or95FbA-4pBmWOKA7jS0MHVh9HZkxsXcGWI=s64",
      "userId": "06573522356862301710"
     },
     "user_tz": 240
    },
    "id": "QflhwsQ0dXbA",
    "outputId": "d8deb252-31d0-4ecc-8842-816ac713d3f3"
   },
   "outputs": [],
   "source": [
    "channels = (\"r\", \"g\", \"b\")\n",
    "for i, col in enumerate(channels):\n",
    "    hist = cv.calcHist([img_q31_rgb], [i], None, [256], [0, 256])\n",
    "    plt.plot(hist, color=col)\n",
    "    plt.xlim([0, 256])"
   ]
  },
  {
   "cell_type": "markdown",
   "metadata": {
    "id": "AroW4G2zdXbA"
   },
   "source": [
    "Ajustez la plage dynamique en luminosité de l'image pour qu'elle couvre l'ensemble des valeurs possibles."
   ]
  },
  {
   "cell_type": "code",
   "execution_count": null,
   "metadata": {
    "colab": {
     "base_uri": "https://localhost:8080/",
     "height": 286
    },
    "executionInfo": {
     "elapsed": 181,
     "status": "ok",
     "timestamp": 1622381703230,
     "user": {
      "displayName": "François Ferland",
      "photoUrl": "https://lh3.googleusercontent.com/a-/AOh14GgF2Or95FbA-4pBmWOKA7jS0MHVh9HZkxsXcGWI=s64",
      "userId": "06573522356862301710"
     },
     "user_tz": 240
    },
    "id": "sc3_u8xrdXbB",
    "outputId": "337fb345-3f22-49d0-c37a-a98b42a1a0f2"
   },
   "outputs": [],
   "source": [
    "# NOTE: On convertit d'abord en float32 dans la plage [0,1] pour\n",
    "# simplifier la manipulation des images avec des facteurs non-entiers.\n",
    "# Matplotlib détecte ceci et affichera l'image correctement.\n",
    "img_q31_f = np.float32(img_q31_rgb) / 255.0\n",
    "\n",
    "\n",
    "def adjust_dynamic_range(img):\n",
    "    _min = img.min()\n",
    "    _max = img.max()\n",
    "    return (img.copy() - _min) / (_max - _min)\n",
    "\n",
    "\n",
    "img_q31_out = adjust_dynamic_range(img_q31_f)\n",
    "\n",
    "plt.figure(0)\n",
    "channels = (\"r\", \"g\", \"b\")\n",
    "for i, col in enumerate(channels):\n",
    "    hist = cv.calcHist([img_q31_out * 255.0], [i], None, [256], [0, 256])\n",
    "    plt.plot(hist, color=col)\n",
    "    plt.xlim([0, 256])\n",
    "\n",
    "plt.figure(1)\n",
    "plt.imshow(img_q31_out)\n",
    "plt.title(\"Full dynamic range\"), plt.xticks([]), plt.yticks([])\n",
    "\n",
    "plt.show()"
   ]
  },
  {
   "cell_type": "markdown",
   "metadata": {
    "id": "hOc3K-_ydXbB"
   },
   "source": [
    "## Q2.2\n",
    "\n",
    "Soit maintenant cette image :"
   ]
  },
  {
   "cell_type": "code",
   "execution_count": null,
   "metadata": {
    "colab": {
     "base_uri": "https://localhost:8080/",
     "height": 286
    },
    "executionInfo": {
     "elapsed": 691,
     "status": "ok",
     "timestamp": 1622381703917,
     "user": {
      "displayName": "François Ferland",
      "photoUrl": "https://lh3.googleusercontent.com/a-/AOh14GgF2Or95FbA-4pBmWOKA7jS0MHVh9HZkxsXcGWI=s64",
      "userId": "06573522356862301710"
     },
     "user_tz": 240
    },
    "id": "R8RjOELadXbB",
    "outputId": "4f6ab7da-ebcc-4718-9c2a-54573a482248"
   },
   "outputs": [],
   "source": [
    "img_q32_org = cv.imread(\"images_doc/proc2-q1-object.jpeg\")\n",
    "assert img_q32_org is not None\n",
    "img_q32_rgb = cv.cvtColor(img_q32_org, cv.COLOR_BGR2RGB)\n",
    "\n",
    "plt.subplot(1, 2, 1), plt.imshow(img_q32_org)\n",
    "plt.title(\"Original\"), plt.xticks([]), plt.yticks([])\n",
    "plt.subplot(1, 2, 2), plt.imshow(img_q32_rgb)\n",
    "plt.title(\"RGB\"), plt.xticks([]), plt.yticks([])\n",
    "\n",
    "plt.show()"
   ]
  },
  {
   "cell_type": "markdown",
   "metadata": {},
   "source": [
    "Tentez de mettre en place un algorithme basé sur la luminosité permettant d'éliminer l'arrière-plan de cette image pour qu'il ne reste que l'objet en jaune sur un fond le plus noir possible."
   ]
  },
  {
   "cell_type": "code",
   "execution_count": null,
   "metadata": {},
   "outputs": [],
   "source": [
    "hsv = cv.cvtColor(img_q32_rgb, cv.COLOR_RGB2HSV)\n",
    "\n",
    "# Define yellow range in HSV\n",
    "lower_yellow = np.array([0, 100, 100])\n",
    "upper_yellow = np.array([100, 255, 255])\n",
    "mask_hsv = cv.inRange(hsv, lower_yellow, upper_yellow)\n",
    "\n",
    "lum = img_q32_rgb.mean(axis=2)  # Luminosity measured from mean of RGB channels\n",
    "lum_thresh = 130  # NOTE: adjust luminosity threshold as needed\n",
    "mask_lum = lum > lum_thresh\n",
    "\n",
    "mask_combined = mask_hsv | mask_lum\n",
    "\n",
    "result = img_q32_rgb.copy()\n",
    "result[mask_combined == 0] = [0, 0, 0]\n",
    "\n",
    "# Clean the remaining noise (upper left corner) using morphological transformations\n",
    "kernel = cv.getStructuringElement(cv.MORPH_RECT, (5, 5))\n",
    "mask_clean = cv.morphologyEx(mask_combined.astype(np.uint8), cv.MORPH_OPEN, kernel)\n",
    "result[mask_clean == 0] = [0, 0, 0]\n",
    "\n",
    "plt.figure(1)\n",
    "plt.imshow(result)\n",
    "plt.title(\"Yellow object isolated (HSV + luminosity)\")\n",
    "plt.axis(\"off\")\n",
    "plt.show()\n"
   ]
  },
  {
   "cell_type": "markdown",
   "metadata": {
    "id": "CByUCiAUdXbC",
    "tags": []
   },
   "source": [
    "## Filtrage linéaire\n",
    "\n",
    "### Q3.1 \n",
    "\n",
    "Soit l'image suivante ainsi que sa transformée de Fourier :"
   ]
  },
  {
   "cell_type": "code",
   "execution_count": null,
   "metadata": {
    "colab": {
     "base_uri": "https://localhost:8080/",
     "height": 238
    },
    "executionInfo": {
     "elapsed": 392,
     "status": "ok",
     "timestamp": 1622381704288,
     "user": {
      "displayName": "François Ferland",
      "photoUrl": "https://lh3.googleusercontent.com/a-/AOh14GgF2Or95FbA-4pBmWOKA7jS0MHVh9HZkxsXcGWI=s64",
      "userId": "06573522356862301710"
     },
     "user_tz": 240
    },
    "id": "hsQ_TgmPdXbD",
    "outputId": "41d9d9f0-2312-471f-c434-d5cb2723612f",
    "scrolled": true
   },
   "outputs": [],
   "source": [
    "img_q4_org = cv.imread(\"images_doc/proc2-q2-texture.jpeg\")\n",
    "assert img_q4_org is not None\n",
    "\n",
    "img_q4_mono = np.float32(cv.cvtColor(img_q4_org, cv.COLOR_BGR2GRAY)) / 255.0\n",
    "\n",
    "\n",
    "def get_fft_mag(img):\n",
    "    img_fft = np.fft.fft2(img)\n",
    "    img_fft = np.fft.fftshift(img_fft)\n",
    "    img_fft = 20 * np.log(np.abs(img_fft))\n",
    "    return img_fft\n",
    "\n",
    "\n",
    "img_q4_fft = get_fft_mag(img_q4_mono)\n",
    "\n",
    "plt.subplot(1, 2, 1), plt.imshow(img_q4_mono, cmap=\"gray\")\n",
    "plt.title(\"Monochrome\"), plt.xticks([]), plt.yticks([])\n",
    "plt.subplot(1, 2, 2), plt.imshow(img_q4_fft)\n",
    "plt.title(\"FFT\"), plt.xticks([]), plt.yticks([])\n",
    "\n",
    "plt.show()"
   ]
  },
  {
   "cell_type": "markdown",
   "metadata": {
    "id": "TCs7RSltdXbD"
   },
   "source": [
    "(Source de l'image originale : [Hoang Le, Pexels](https://www.pexels.com/photo/black-and-white-black-and-white-pattern-rough-978462/)).\n",
    "\n",
    "**a)** Filtrez cette image à l'aide d'une convolution de façon à ce que la valeur de chaque pixel soit la valeur moyenne de ses voisins dans un carré de 15x15."
   ]
  },
  {
   "cell_type": "code",
   "execution_count": null,
   "metadata": {
    "executionInfo": {
     "elapsed": 7,
     "status": "ok",
     "timestamp": 1622381704290,
     "user": {
      "displayName": "François Ferland",
      "photoUrl": "https://lh3.googleusercontent.com/a-/AOh14GgF2Or95FbA-4pBmWOKA7jS0MHVh9HZkxsXcGWI=s64",
      "userId": "06573522356862301710"
     },
     "user_tz": 240
    },
    "id": "x0V1T6EZdXbE"
   },
   "outputs": [],
   "source": [
    "filter_kernel = np.ones((15, 15)) / (15 * 15)\n",
    "\n",
    "convolution = cv.filter2D(img_q4_mono.copy(), -1, filter_kernel)\n",
    "\n",
    "plt.subplot(1, 2, 1), plt.imshow(img_q4_mono, cmap=\"gray\")\n",
    "plt.title(\"Monochrome\"), plt.xticks([]), plt.yticks([])\n",
    "plt.subplot(1, 2, 2), plt.imshow(convolution, cmap=\"gray\")\n",
    "plt.title(\"2D convolution\"), plt.xticks([]), plt.yticks([])\n",
    "\n",
    "plt.show()\n"
   ]
  },
  {
   "cell_type": "markdown",
   "metadata": {
    "id": "omvSPfAQdXbE"
   },
   "source": [
    "**b)** Comparez le résultat avec celui de la fonction cv2.GaussianBlur() avec un noyau de convolution de la même taille."
   ]
  },
  {
   "cell_type": "code",
   "execution_count": null,
   "metadata": {
    "colab": {
     "base_uri": "https://localhost:8080/",
     "height": 286
    },
    "executionInfo": {
     "elapsed": 585,
     "status": "ok",
     "timestamp": 1622381704869,
     "user": {
      "displayName": "François Ferland",
      "photoUrl": "https://lh3.googleusercontent.com/a-/AOh14GgF2Or95FbA-4pBmWOKA7jS0MHVh9HZkxsXcGWI=s64",
      "userId": "06573522356862301710"
     },
     "user_tz": 240
    },
    "id": "eDPy-hAIdXbF",
    "outputId": "94538434-8c1c-491c-a680-adb7134ece97",
    "tags": []
   },
   "outputs": [],
   "source": [
    "gaussian_blur = cv.GaussianBlur(img_q4_mono.copy(), (15, 15), 0.0)\n",
    "\n",
    "plt.subplot(1, 3, 1), plt.imshow(img_q4_mono, cmap=\"gray\")\n",
    "plt.title(\"2D convolution\"), plt.xticks([]), plt.yticks([])\n",
    "plt.subplot(1, 3, 2), plt.imshow(convolution, cmap=\"gray\")\n",
    "plt.title(\"2D convolution\"), plt.xticks([]), plt.yticks([])\n",
    "plt.subplot(1, 3, 3), plt.imshow(gaussian_blur, cmap=\"gray\")\n",
    "plt.title(\"Gaussian blur\"), plt.xticks([]), plt.yticks([])\n",
    "\n",
    "plt.show()\n"
   ]
  },
  {
   "cell_type": "markdown",
   "metadata": {
    "id": "I12xqvM8dXbG"
   },
   "source": [
    "**c)** Comment expliquez-vous la différence ?"
   ]
  },
  {
   "cell_type": "markdown",
   "metadata": {
    "id": "aLrrFz_GdXbH"
   },
   "source": [
    "Réponse:\n",
    "\n",
    "La convolution 2D (*mean filtering*) applique le même poids à tous les pixels voisins, ce qui lisse l’image en supprimant les détails fins et le bruit, mais peut introduire des artéfacts (bords moins naturels).\n",
    "\n",
    "Le flou gaussien (*gaussian blur*) utilise un noyau pondéré selon une distribution gaussienne: les pixels près du centre ont plus d'influence que ceux éloignés. Cela produit un lissage plus naturel, préserve mieux les transitions, et réduit les artéfacts. Le flou gaussien est donc généralement préféré pour le filtrage d'images."
   ]
  }
 ],
 "metadata": {
  "colab": {
   "collapsed_sections": [],
   "name": "proc_2.ipynb",
   "provenance": []
  },
  "kernelspec": {
   "display_name": ".venv (3.12.3)",
   "language": "python",
   "name": "python3"
  },
  "language_info": {
   "codemirror_mode": {
    "name": "ipython",
    "version": 3
   },
   "file_extension": ".py",
   "mimetype": "text/x-python",
   "name": "python",
   "nbconvert_exporter": "python",
   "pygments_lexer": "ipython3",
   "version": "3.12.3"
  }
 },
 "nbformat": 4,
 "nbformat_minor": 4
}
