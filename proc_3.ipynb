{
 "cells": [
  {
   "cell_type": "markdown",
   "metadata": {
    "id": "a0EEWx14hBKx"
   },
   "source": [
    "# GRO620 - Activité procédurale 3"
   ]
  },
  {
   "cell_type": "code",
   "execution_count": null,
   "metadata": {
    "colab": {
     "base_uri": "https://localhost:8080/"
    },
    "executionInfo": {
     "elapsed": 32012,
     "status": "ok",
     "timestamp": 1622382319223,
     "user": {
      "displayName": "François Ferland",
      "photoUrl": "https://lh3.googleusercontent.com/a-/AOh14GgF2Or95FbA-4pBmWOKA7jS0MHVh9HZkxsXcGWI=s64",
      "userId": "06573522356862301710"
     },
     "user_tz": 240
    },
    "id": "uvKHKgWahBK0",
    "outputId": "024ed262-a8ed-4985-bb7c-0434d471dd53"
   },
   "outputs": [],
   "source": [
    "# Préambule\n",
    "\n",
    "import numpy as np\n",
    "import cv2 as cv\n",
    "import matplotlib.pyplot as plt\n",
    "%matplotlib inline\n",
    "\n",
    "## Si vous utilisez Google Colab, vous devez d'abord monter votre Google Drive\n",
    "## où se trouve vos données. \n",
    "## Commentez les trois lignes suivantes en ajustant le chemin vers votre propre\n",
    "## dossier :\n",
    "\n",
    "# from google.colab import drive\n",
    "# drive.mount('/content/gdrive')\n",
    "# %cd /content/gdrive/MyDrive/gro620-e21\n",
    "\n",
    "## Pour retrouver le chemin depuis Jupyter, vous pouvez utiliser ceci :\n",
    "# !ls /content/gdrive/MyDrive"
   ]
  },
  {
   "cell_type": "markdown",
   "metadata": {
    "id": "L-JwJffdhBK1"
   },
   "source": [
    "## Filtrage linéaire - suite\n",
    "\n",
    "### Q1.1\n",
    "\n",
    "Soit cette image :"
   ]
  },
  {
   "cell_type": "code",
   "execution_count": null,
   "metadata": {
    "colab": {
     "base_uri": "https://localhost:8080/",
     "height": 286
    },
    "executionInfo": {
     "elapsed": 5692,
     "status": "ok",
     "timestamp": 1622382324882,
     "user": {
      "displayName": "François Ferland",
      "photoUrl": "https://lh3.googleusercontent.com/a-/AOh14GgF2Or95FbA-4pBmWOKA7jS0MHVh9HZkxsXcGWI=s64",
      "userId": "06573522356862301710"
     },
     "user_tz": 240
    },
    "id": "oG_wN83xhBK1",
    "outputId": "bd998594-e834-4e50-f517-c039710df263"
   },
   "outputs": [],
   "source": [
    "img_q11_org = cv.imread(\"images_doc/proc2-q1-object.jpeg\")\n",
    "assert img_q11_org is not None\n",
    "img_q11_mono = np.float32(cv.cvtColor(img_q11_org, cv.COLOR_BGR2GRAY)) / 255.0\n",
    "\n",
    "plt.imshow(img_q11_mono, cmap=\"gray\")\n",
    "plt.title(\"Original\"), plt.axis(\"off\")\n",
    "\n",
    "plt.show()"
   ]
  },
  {
   "cell_type": "markdown",
   "metadata": {
    "id": "xZgWwS7ehBK3"
   },
   "source": [
    "Utilisez un filtre linéaire de Sobel (voir sections 3.2.1 et 4.2.1) pour faire ressortir les contours de cette image."
   ]
  },
  {
   "cell_type": "code",
   "execution_count": null,
   "metadata": {
    "executionInfo": {
     "elapsed": 56,
     "status": "ok",
     "timestamp": 1622382324885,
     "user": {
      "displayName": "François Ferland",
      "photoUrl": "https://lh3.googleusercontent.com/a-/AOh14GgF2Or95FbA-4pBmWOKA7jS0MHVh9HZkxsXcGWI=s64",
      "userId": "06573522356862301710"
     },
     "user_tz": 240
    },
    "id": "45jTljsXhBK3"
   },
   "outputs": [],
   "source": [
    "sobelx = cv.Sobel(img_q11_mono, cv.CV_32F, 1, 0, ksize=3)  # type: ignore\n",
    "sobely = cv.Sobel(img_q11_mono, cv.CV_32F, 0, 1, ksize=3)  # type: ignore\n",
    "\n",
    "plt.subplot(1, 2, 1), plt.imshow(sobelx, \"gray\")\n",
    "plt.title(\"Sobel X\"), plt.axis(\"off\")\n",
    "plt.subplot(1, 2, 2), plt.imshow(sobely, \"gray\")\n",
    "plt.title(\"Sobel Y\"), plt.axis(\"off\")\n",
    "\n",
    "plt.show()\n"
   ]
  },
  {
   "cell_type": "markdown",
   "metadata": {
    "id": "4_q4Ex1UhBK4"
   },
   "source": [
    "## Filtrage non-linéaire\n",
    "\n",
    "### Q2.1\n",
    "\n",
    "Soit cette image :"
   ]
  },
  {
   "cell_type": "code",
   "execution_count": null,
   "metadata": {
    "colab": {
     "base_uri": "https://localhost:8080/",
     "height": 286
    },
    "executionInfo": {
     "elapsed": 50,
     "status": "ok",
     "timestamp": 1622382324886,
     "user": {
      "displayName": "François Ferland",
      "photoUrl": "https://lh3.googleusercontent.com/a-/AOh14GgF2Or95FbA-4pBmWOKA7jS0MHVh9HZkxsXcGWI=s64",
      "userId": "06573522356862301710"
     },
     "user_tz": 240
    },
    "id": "mNrG-0FthBK4",
    "outputId": "1651b4aa-9469-403b-8b73-8eb57ff95a11"
   },
   "outputs": [],
   "source": [
    "img_q21_org = cv.imread(\"images_doc/proc2-q3-sand.png\")\n",
    "assert img_q21_org is not None\n",
    "img_q21_mono = cv.cvtColor(img_q21_org, cv.COLOR_BGR2GRAY)\n",
    "\n",
    "plt.imshow(img_q21_mono, cmap=\"gray\")\n",
    "plt.title(\"Monochrome\"), plt.axis(\"off\")\n",
    "\n",
    "plt.show()"
   ]
  },
  {
   "cell_type": "markdown",
   "metadata": {
    "id": "AtIUQ8P8hBK5"
   },
   "source": [
    "Utilisez un filtre **non-linéaire** pour tenter de retirer les points noirs dans l'image."
   ]
  },
  {
   "cell_type": "code",
   "execution_count": null,
   "metadata": {
    "executionInfo": {
     "elapsed": 45,
     "status": "ok",
     "timestamp": 1622382324887,
     "user": {
      "displayName": "François Ferland",
      "photoUrl": "https://lh3.googleusercontent.com/a-/AOh14GgF2Or95FbA-4pBmWOKA7jS0MHVh9HZkxsXcGWI=s64",
      "userId": "06573522356862301710"
     },
     "user_tz": 240
    },
    "id": "_7ZXBdzZhBK5"
   },
   "outputs": [],
   "source": [
    "img_q21_filt = img_q21_mono.copy()\n",
    "\n",
    "img_q21_filt = cv.medianBlur(img_q21_mono, ksize=5)\n",
    "rgb = cv.cvtColor(img_q21_filt, cv.COLOR_GRAY2RGB)\n",
    "\n",
    "plt.imshow(rgb)\n",
    "plt.title(\"Non-linear filter (Median)\"), plt.axis(\"off\")\n",
    "\n",
    "plt.show()"
   ]
  },
  {
   "cell_type": "markdown",
   "metadata": {
    "id": "il9v4gc5hBK6"
   },
   "source": [
    "## Chaîne de filtrage\n",
    "\n",
    "### Q3.1\n",
    "\n",
    "En reprenant la figure originale de la question Q1.1, appliquez une succession de filtres pour mieux isoler le contour de l'objet au centre de l'image."
   ]
  },
  {
   "cell_type": "code",
   "execution_count": null,
   "metadata": {},
   "outputs": [],
   "source": [
    "original = img_q11_org.copy()\n",
    "gray = cv.cvtColor(original, cv.COLOR_BGR2GRAY)\n",
    "\n",
    "blurred = cv.GaussianBlur(original, (9, 9), 1.0)\n",
    "\n",
    "hsv = cv.cvtColor(blurred, cv.COLOR_BGR2HSV)\n",
    "\n",
    "laplacian = cv.Laplacian(gray, -1)\n",
    "\n",
    "closing = cv.morphologyEx(laplacian, cv.MORPH_CLOSE, np.ones((9, 9), dtype=np.uint8))\n",
    "\n",
    "_, binary_inv = cv.threshold(closing, 65.0, 200.0, cv.THRESH_BINARY_INV)\n",
    "\n",
    "plt.imshow(binary_inv, \"gray\")\n",
    "plt.title(\"Object contour isolated (without `findContours`)\"), plt.axis(\"off\")\n",
    "\n",
    "plt.show()"
   ]
  },
  {
   "cell_type": "code",
   "execution_count": null,
   "metadata": {
    "colab": {
     "base_uri": "https://localhost:8080/",
     "height": 286
    },
    "executionInfo": {
     "elapsed": 45,
     "status": "ok",
     "timestamp": 1622382324888,
     "user": {
      "displayName": "François Ferland",
      "photoUrl": "https://lh3.googleusercontent.com/a-/AOh14GgF2Or95FbA-4pBmWOKA7jS0MHVh9HZkxsXcGWI=s64",
      "userId": "06573522356862301710"
     },
     "user_tz": 240
    },
    "id": "_ZJcbVEhhBK6",
    "outputId": "1ca29236-34e8-4f1b-93f9-2038837a85ea"
   },
   "outputs": [],
   "source": [
    "gray = cv.cvtColor(img_q11_org, cv.COLOR_BGR2GRAY)  # type: ignore\n",
    "hsv = cv.cvtColor(img_q11_org, cv.COLOR_BGR2HSV)  # type: ignore\n",
    "\n",
    "# Define yellow range in HSV\n",
    "lower_yellow = np.array([0, 100, 100])\n",
    "upper_yellow = np.array([100, 255, 255])\n",
    "mask_hsv = cv.inRange(hsv, lower_yellow, upper_yellow)\n",
    "\n",
    "lum = gray.mean()  # Luminosity measured from mean of RGB channels\n",
    "lum_thresh = 130  # NOTE: adjust luminosity threshold as needed\n",
    "mask_lum = lum > lum_thresh\n",
    "\n",
    "mask_combined = mask_hsv | mask_lum\n",
    "\n",
    "result = gray.copy()\n",
    "result[mask_combined == 0] = 0\n",
    "\n",
    "# Clean the remaining noise (upper left corner) using morphological transformations\n",
    "kernel = cv.getStructuringElement(cv.MORPH_RECT, (5, 5))\n",
    "mask_clean = cv.morphologyEx(mask_combined.astype(np.uint8), cv.MORPH_OPEN, kernel)\n",
    "result[mask_clean == 0] = 0\n",
    "\n",
    "contours, _ = cv.findContours(result, cv.RETR_EXTERNAL, cv.CHAIN_APPROX_SIMPLE)\n",
    "contours_only = np.zeros_like(mask_clean)\n",
    "\n",
    "cv.drawContours(contours_only, contours, -1, 255, thickness=1)\n",
    "\n",
    "plt.figure(1)\n",
    "plt.imshow(contours_only, \"gray\")\n",
    "plt.title(\"Object contour isolated\")\n",
    "plt.axis(\"off\")\n",
    "\n",
    "plt.show()"
   ]
  },
  {
   "cell_type": "markdown",
   "metadata": {
    "id": "tdc_PeV_hBK7"
   },
   "source": [
    "### Q3.2\n",
    "\n",
    "Répétez l'exercice précédent, mais avec un filtre de Canny."
   ]
  },
  {
   "cell_type": "code",
   "execution_count": null,
   "metadata": {
    "executionInfo": {
     "elapsed": 40,
     "status": "ok",
     "timestamp": 1622382324889,
     "user": {
      "displayName": "François Ferland",
      "photoUrl": "https://lh3.googleusercontent.com/a-/AOh14GgF2Or95FbA-4pBmWOKA7jS0MHVh9HZkxsXcGWI=s64",
      "userId": "06573522356862301710"
     },
     "user_tz": 240
    },
    "id": "ZJHMQiIkhBK7",
    "scrolled": true
   },
   "outputs": [],
   "source": [
    "img_q32 = (img_q11_mono * 255.0).astype(np.uint8)\n",
    "\n",
    "edges = cv.Canny(img_q32, 100.0, 200.0)\n",
    "\n",
    "plt.imshow(edges, \"gray\")\n",
    "plt.title(\"Canny\"), plt.axis(\"off\")\n",
    "\n",
    "plt.show()"
   ]
  },
  {
   "cell_type": "markdown",
   "metadata": {
    "id": "QHnno0MAhBK8"
   },
   "source": [
    "## Analyse de formes\n",
    "\n",
    "### Q4.1\n",
    "\n",
    "Soit cette image :"
   ]
  },
  {
   "cell_type": "code",
   "execution_count": null,
   "metadata": {
    "colab": {
     "base_uri": "https://localhost:8080/",
     "height": 286
    },
    "executionInfo": {
     "elapsed": 1029,
     "status": "ok",
     "timestamp": 1622382325880,
     "user": {
      "displayName": "François Ferland",
      "photoUrl": "https://lh3.googleusercontent.com/a-/AOh14GgF2Or95FbA-4pBmWOKA7jS0MHVh9HZkxsXcGWI=s64",
      "userId": "06573522356862301710"
     },
     "user_tz": 240
    },
    "id": "tYljEHxvhBK9",
    "outputId": "6434f40a-79a9-4d5b-e1ae-83fe2909fec8"
   },
   "outputs": [],
   "source": [
    "img_q41_org = cv.imread(\"images_doc/proc3-q4-tracks.jpeg\")\n",
    "assert img_q41_org is not None\n",
    "\n",
    "img_q41_rgb = cv.cvtColor(img_q41_org, cv.COLOR_BGR2RGB)\n",
    "\n",
    "plt.imshow(img_q41_rgb)\n",
    "plt.title(\"Original\"), plt.axis(\"off\")\n",
    "\n",
    "plt.show()"
   ]
  },
  {
   "cell_type": "markdown",
   "metadata": {
    "id": "MzkzKDFRhBK9"
   },
   "source": [
    "(Source de l'image originale : [Krivec Ales, Pexels](https://www.pexels.com/photo/clouds-cloudy-country-distance-552779/))\n",
    "\n",
    "Trouvez et tracez les lignes dominantes à l'aide de la transformée de Hough."
   ]
  },
  {
   "cell_type": "code",
   "execution_count": null,
   "metadata": {
    "executionInfo": {
     "elapsed": 26,
     "status": "ok",
     "timestamp": 1622382325885,
     "user": {
      "displayName": "François Ferland",
      "photoUrl": "https://lh3.googleusercontent.com/a-/AOh14GgF2Or95FbA-4pBmWOKA7jS0MHVh9HZkxsXcGWI=s64",
      "userId": "06573522356862301710"
     },
     "user_tz": 240
    },
    "id": "AKO_1TwjhBK-"
   },
   "outputs": [],
   "source": [
    "img_q41_mono = cv.cvtColor(img_q41_rgb, cv.COLOR_BGR2GRAY)\n",
    "\n",
    "edges = cv.Canny(img_q41_mono, 100, 200)\n",
    "lines = cv.HoughLines(edges, 1, np.pi / 180, threshold=200)\n",
    "\n",
    "img_q41_lines = img_q41_rgb.copy()\n",
    "if lines is not None:\n",
    "    for line in lines:\n",
    "        rho, theta = line[0]\n",
    "        a = np.cos(theta)\n",
    "        b = np.sin(theta)\n",
    "        x0 = a * rho\n",
    "        y0 = b * rho\n",
    "        x1 = int(x0 + 1000 * -b)\n",
    "        y1 = int(y0 + 1000 * a)\n",
    "        x2 = int(x0 - 1000 * -b)\n",
    "        y2 = int(y0 - 1000 * a)\n",
    "        cv.line(img_q41_lines, (x1, y1), (x2, y2), (255, 0, 0), 3)\n",
    "\n",
    "plt.imshow(img_q41_lines)\n",
    "plt.title(\"Dominant Lines (Hough Transform)\"), plt.axis(\"off\")\n",
    "\n",
    "plt.show()"
   ]
  },
  {
   "cell_type": "markdown",
   "metadata": {
    "id": "LJRIc3KLhBK_"
   },
   "source": [
    "### Q4.2\n",
    "\n",
    "En reprenant l'image des questions Q1.1 et Q3.1, trouvez, tracez et afficher les coordonnées (en pixels) de la boîte (*bounding box*) contenant les contours de l'objet à l'aide de cv2.findContours()"
   ]
  },
  {
   "cell_type": "code",
   "execution_count": null,
   "metadata": {
    "executionInfo": {
     "elapsed": 26,
     "status": "ok",
     "timestamp": 1622382325887,
     "user": {
      "displayName": "François Ferland",
      "photoUrl": "https://lh3.googleusercontent.com/a-/AOh14GgF2Or95FbA-4pBmWOKA7jS0MHVh9HZkxsXcGWI=s64",
      "userId": "06573522356862301710"
     },
     "user_tz": 240
    },
    "id": "UV_Z_OPqhBK_",
    "tags": []
   },
   "outputs": [],
   "source": [
    "bbox = cv.boundingRect(contours_only)\n",
    "\n",
    "rgb = cv.cvtColor(img_q11_org, cv.COLOR_BGR2RGB)\n",
    "\n",
    "x, y, w, h = bbox\n",
    "cv.rectangle(rgb, (x, y), (x + w, y + h), (255, 0, 0), 2)\n",
    "\n",
    "plt.imshow(rgb)\n",
    "plt.title(\"Bounding Box\")\n",
    "plt.axis(\"off\")\n",
    "\n",
    "plt.imshow(rgb)\n",
    "\n",
    "plt.show()"
   ]
  }
 ],
 "metadata": {
  "colab": {
   "name": "proc_3.ipynb",
   "provenance": []
  },
  "kernelspec": {
   "display_name": ".venv (3.12.3)",
   "language": "python",
   "name": "python3"
  },
  "language_info": {
   "codemirror_mode": {
    "name": "ipython",
    "version": 3
   },
   "file_extension": ".py",
   "mimetype": "text/x-python",
   "name": "python",
   "nbconvert_exporter": "python",
   "pygments_lexer": "ipython3",
   "version": "3.12.3"
  }
 },
 "nbformat": 4,
 "nbformat_minor": 4
}
